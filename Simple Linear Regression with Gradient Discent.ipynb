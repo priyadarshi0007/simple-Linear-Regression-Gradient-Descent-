{
 "cells": [
  {
   "cell_type": "code",
   "execution_count": 1,
   "metadata": {},
   "outputs": [],
   "source": [
    "import numpy as np\n",
    "# matplotlib and mpl_toolkits are not necessary. We employ them for the sole purpose of visualizing the results.  \n",
    "import matplotlib.pyplot as plt\n",
    "from mpl_toolkits.mplot3d import Axes3D"
   ]
  },
  {
   "cell_type": "code",
   "execution_count": 2,
   "metadata": {},
   "outputs": [
    {
     "name": "stdout",
     "output_type": "stream",
     "text": [
      "(1000, 2)\n"
     ]
    }
   ],
   "source": [
    "observation = 1000\n",
    "\n",
    "# creating a two variable linear method:\n",
    "xs = np.random.uniform(low = 10,high = -10,size = (observation,1))\n",
    "zs = np.random.uniform(low = 10,high = -10,size = (observation,1))\n",
    "\n",
    "#input matrxi should be of dimesion n x k, in our case it will be 1000(number of observations) x 2(number of variable)\n",
    "inputs = np.column_stack((xs,zs))\n",
    "\n",
    "print(inputs.shape)"
   ]
  },
  {
   "cell_type": "markdown",
   "metadata": {},
   "source": [
    "### Creating the target values"
   ]
  },
  {
   "cell_type": "code",
   "execution_count": 3,
   "metadata": {},
   "outputs": [
    {
     "name": "stdout",
     "output_type": "stream",
     "text": [
      "(1000, 1)\n"
     ]
    }
   ],
   "source": [
    "# We want to \"make up\" a function, use the ML methodology, and see if the algorithm has learned it.\n",
    "# We add a small random noise to the function i.e. f(x,z) = 2x - 3z + 5 + small noise\n",
    "noise = np.random.uniform(-1, 1, (observation,1))\n",
    "\n",
    "# Produce the targets according to the f(x,z) = 13xs + 7zs - 12+noise  definition.\n",
    "# In this way, we are basically saying: the weights should be 2 and -3, while the bias is 5.\n",
    "# 5x^2+3x-4\n",
    "# f(x,z) = 2x - 3z + 5 + <small noise>\n",
    "targets = 2*xs - 3*zs + 5 + noise\n",
    "\n",
    "# Check the shape of the targets just in case. It should be n x m, where m is the number of output variables, so 1000 x 1.\n",
    "print (targets.shape)"
   ]
  },
  {
   "cell_type": "code",
   "execution_count": 4,
   "metadata": {},
   "outputs": [
    {
     "data": {
      "image/png": "[encoded data removed]",
      "text/plain": [
       "<Figure size 432x288 with 1 Axes>"
      ]
     },
     "metadata": {
      "needs_background": "light"
     },
     "output_type": "display_data"
    }
   ],
   "source": [
    "# In order to use the 3D plot, the objects should have a certain shape, so we reshape the targets.\n",
    "# The proper method to use is reshape and takes as arguments the dimensions in which we want to fit the object.\n",
    "# Plotting according to the conventional matplotlib.pyplot syntax\n",
    "# Declare the figure\n",
    "targets = targets.reshape(observation,)\n",
    "fig = plt.figure()\n",
    "# A method allowing us to create the 3D plot\n",
    "ax = fig.add_subplot(111, projection='3d')\n",
    "# Choose the axes.\n",
    "ax.plot(xs, zs,targets)\n",
    "# Set labels\n",
    "ax.set_xlabel('xs')\n",
    "ax.set_ylabel('zs')\n",
    "ax.set_zlabel('Targets')\n",
    "# with azim = 0 we can see all the three variable are in a linear relationship\n",
    "ax.view_init(azim=0)\n",
    "plt.show()\n",
    "# We reshape the targets back to the shape that they were in before plotting.\n",
    "# This reshaping is a side-effect of the 3D plot. Sorry for that.\n",
    "targets = targets.reshape(observation,1)"
   ]
  },
  {
   "cell_type": "code",
   "execution_count": 5,
   "metadata": {},
   "outputs": [
    {
     "name": "stdout",
     "output_type": "stream",
     "text": [
      "weights [[-0.01607402]\n",
      " [-0.04849681]]\n",
      "biases [0.0816736]\n"
     ]
    }
   ],
   "source": [
    "# We will initialize the weights and biases randomly in some small initial range.\n",
    "# init_range is the variable that will measure that.\n",
    "# High initial ranges may prevent the machine learning algorithm from learning.\n",
    "init_range = 0.1\n",
    "\n",
    "# Weights are of size k x m, where k is the number of input variables and m is the number of output variables\n",
    "# In our case, the weights matrix is 2x1 since there are 2 inputs (x and z) and one output (y)\n",
    "weights = np.random.uniform(low=-init_range, high=init_range, size=(2, 1))\n",
    "\n",
    "# Biases are of size 1 since there is only 1 output number of biases are mostly equal to number of Target variables \n",
    "#The bias is a scalar or we can say 1 x 1 matrix\n",
    "biases = np.random.uniform(low=-init_range, high=init_range, size=1)\n",
    "\n",
    "print (\"weights\",weights)\n",
    "print (\"biases\",biases)"
   ]
  },
  {
   "cell_type": "markdown",
   "metadata": {},
   "source": [
    "# Train the Model\n",
    "\n",
    "We iterate over our training dataset 100 times. That may work well with a learning rate of 0.02. a lower learning rate would need more iterations, while a higher learning rate would need less iterations keeping in mind that a high learning rate may cause the loss to diverge to infinity, instead of converge to 0"
   ]
  },
  {
   "cell_type": "code",
   "execution_count": 6,
   "metadata": {},
   "outputs": [],
   "source": [
    "learning_rate = 0.05\n",
    "#learning_rate = 0.2"
   ]
  },
  {
   "cell_type": "markdown",
   "metadata": {},
   "source": [
    "# How to do the iterations\n",
    "\n",
    "1. Calculate the outputs\n",
    "2. Compare outputs through the loss(L2 - Norm as we are working on a linear regression problem)\n",
    "3. Print the Loss\n",
    "4. Adjust the weight and bias\n"
   ]
  },
  {
   "cell_type": "code",
   "execution_count": 13,
   "metadata": {},
   "outputs": [
    {
     "name": "stdout",
     "output_type": "stream",
     "text": [
      "0.15771226706107758\n",
      "0.15771226706107758\n",
      "0.15771226706107758\n",
      "0.1577122670610776\n",
      "0.15771226706107763\n",
      "0.15771226706107763\n",
      "0.15771226706107758\n",
      "0.15771226706107755\n",
      "0.1577122670610777\n",
      "0.1577122670610776\n",
      "0.15771226706107763\n",
      "0.15771226706107755\n",
      "0.1577122670610776\n",
      "0.15771226706107758\n",
      "0.1577122670610776\n",
      "0.15771226706107758\n",
      "0.15771226706107763\n",
      "0.15771226706107763\n",
      "0.15771226706107758\n",
      "0.15771226706107758\n",
      "0.15771226706107755\n",
      "0.15771226706107758\n",
      "0.1577122670610776\n",
      "0.1577122670610776\n",
      "0.1577122670610776\n",
      "0.15771226706107763\n",
      "0.1577122670610776\n",
      "0.15771226706107758\n",
      "0.15771226706107763\n",
      "0.15771226706107763\n",
      "0.15771226706107763\n",
      "0.15771226706107758\n",
      "0.1577122670610776\n",
      "0.15771226706107766\n",
      "0.1577122670610776\n",
      "0.1577122670610776\n",
      "0.15771226706107755\n",
      "0.15771226706107758\n",
      "0.15771226706107758\n",
      "0.15771226706107755\n",
      "0.15771226706107758\n",
      "0.15771226706107763\n",
      "0.15771226706107758\n",
      "0.15771226706107758\n",
      "0.15771226706107766\n",
      "0.15771226706107763\n",
      "0.15771226706107758\n",
      "0.15771226706107758\n",
      "0.15771226706107758\n",
      "0.15771226706107758\n",
      "0.15771226706107758\n",
      "0.1577122670610777\n",
      "0.15771226706107758\n",
      "0.1577122670610776\n",
      "0.15771226706107755\n",
      "0.15771226706107755\n",
      "0.15771226706107758\n",
      "0.15771226706107758\n",
      "0.15771226706107758\n",
      "0.15771226706107763\n",
      "0.15771226706107758\n",
      "0.15771226706107763\n",
      "0.1577122670610776\n",
      "0.15771226706107763\n",
      "0.15771226706107763\n",
      "0.15771226706107758\n",
      "0.15771226706107763\n",
      "0.15771226706107755\n",
      "0.15771226706107758\n",
      "0.15771226706107758\n",
      "0.15771226706107758\n",
      "0.15771226706107758\n",
      "0.15771226706107763\n",
      "0.15771226706107758\n",
      "0.15771226706107763\n",
      "0.15771226706107758\n",
      "0.15771226706107755\n",
      "0.15771226706107758\n",
      "0.15771226706107766\n",
      "0.1577122670610777\n",
      "0.15771226706107758\n",
      "0.15771226706107758\n",
      "0.15771226706107763\n",
      "0.15771226706107758\n",
      "0.15771226706107758\n",
      "0.15771226706107766\n",
      "0.15771226706107763\n",
      "0.15771226706107758\n",
      "0.15771226706107763\n",
      "0.1577122670610776\n",
      "0.15771226706107758\n",
      "0.15771226706107763\n",
      "0.15771226706107758\n",
      "0.15771226706107758\n",
      "0.15771226706107758\n",
      "0.15771226706107763\n",
      "0.15771226706107758\n",
      "0.1577122670610776\n",
      "0.1577122670610776\n",
      "0.1577122670610776\n"
     ]
    }
   ],
   "source": [
    "\n",
    "for i in range (100):\n",
    "    \n",
    "    # This is the linear model: y = xw + b equation\n",
    "    # Python adds the scalars to matrices element wise \n",
    "    outputs = np.dot(inputs,weights) + biases\n",
    "    # The deltas are the differences between the outputs and the targets and deltas here is a vector 1000 x 1\n",
    "    #in simpler words we can say deltas are the errors\n",
    "    deltas = outputs - targets \n",
    "        \n",
    "    # We are considering the L2-norm loss, but divided by 2\n",
    "    # Moreover, we further divide it by the number of observations which will give us the mean loss\n",
    "    # L2- nrom loss Formula = sum(outputs - targets) raise to the power 2\n",
    "    #Divison by constant does not change the the logic of the loss as it is still lower for higher accuracy\n",
    "    loss = np.sum(deltas ** 2) / 2 / observation    \n",
    " \n",
    "    print (loss)\n",
    "    \n",
    "    deltas_scaled = deltas / observation  \n",
    "    \n",
    "    # Finally, we must apply the gradient descent update rules.\n",
    "    # The weights are 2x1, learning rate is 1x1 (scalar), inputs are 1000x2, and deltas_scaled are 1000x1\n",
    "    # we need to make the inputs  in 2 X 1000 format to perform the dot product operation \n",
    "    # for that we can use the transpose beacsue transposing matrix does not affect the values\n",
    "    weights = weights - learning_rate * np.dot(inputs.T,deltas_scaled)\n",
    "    # new biases \n",
    "    biases = biases - learning_rate * np.sum(deltas_scaled) "
   ]
  },
  {
   "cell_type": "code",
   "execution_count": 11,
   "metadata": {},
   "outputs": [],
   "source": [
    "# Somehow after multiple iterations the optimal value will be around 0.15771226706107758 with a learning rate 0.05 with multiple iterations\n",
    "# Our target to find whether the loss becomes zero we can do trial adn error for that"
   ]
  },
  {
   "cell_type": "code",
   "execution_count": 14,
   "metadata": {},
   "outputs": [
    {
     "name": "stdout",
     "output_type": "stream",
     "text": [
      "(2, 1) (2, 1000) (1000, 1)\n",
      "2.3675506000131463e-14\n"
     ]
    }
   ],
   "source": [
    "#Dimensonality Check \n",
    "print(weights.shape,inputs.T.shape,deltas_scaled.shape)\n",
    "\n",
    "#0.39592347051420274\n",
    "#0.19836263411952842\n",
    "#0.17161712091109252\n",
    "\n",
    "print(0.1674294259008599-0.16742942590083623)"
   ]
  },
  {
   "cell_type": "code",
   "execution_count": 15,
   "metadata": {},
   "outputs": [
    {
     "name": "stdout",
     "output_type": "stream",
     "text": [
      "weights [[ 2.00091908]\n",
      " [-2.99962825]]\n",
      "biases [4.96983264]\n"
     ]
    }
   ],
   "source": [
    "print (\"weights\",weights)\n",
    "print (\"biases\",biases)"
   ]
  },
  {
   "attachments": {
    "Result.PNG": {
     "image/png": "[encoded data removed]"
    }
   },
   "cell_type": "markdown",
   "metadata": {},
   "source": [
    "# We are looking for below values for learning rate 0.05\n",
    "\n",
    "weights [[ 2.00091908] ,[-2.99962825]] \n",
    "\n",
    "biases [4.96983264]\n",
    "![Result.PNG](attachment:Result.PNG)"
   ]
  },
  {
   "cell_type": "code",
   "execution_count": 16,
   "metadata": {},
   "outputs": [
    {
     "data": {
      "image/png": "[encoded data removed]",
      "text/plain": [
       "<Figure size 432x288 with 1 Axes>"
      ]
     },
     "metadata": {
      "needs_background": "light"
     },
     "output_type": "display_data"
    }
   ],
   "source": [
    "plt.plot(outputs,targets)\n",
    "plt.xlabel('outputs')\n",
    "plt.ylabel('targets')\n",
    "plt.show()"
   ]
  },
  {
   "cell_type": "code",
   "execution_count": null,
   "metadata": {},
   "outputs": [],
   "source": []
  }
 ],
 "metadata": {
  "kernelspec": {
   "display_name": "Python 3",
   "language": "python",
   "name": "python3"
  },
  "language_info": {
   "codemirror_mode": {
    "name": "ipython",
    "version": 3
   },
   "file_extension": ".py",
   "mimetype": "text/x-python",
   "name": "python",
   "nbconvert_exporter": "python",
   "pygments_lexer": "ipython3",
   "version": "3.7.3"
  }
 },
 "nbformat": 4,
 "nbformat_minor": 2
}
